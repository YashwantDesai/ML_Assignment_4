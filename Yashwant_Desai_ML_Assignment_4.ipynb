{
 "cells": [
  {
   "cell_type": "markdown",
   "id": "0c27a818",
   "metadata": {},
   "source": [
    "# Yashwant Desai –  ML_Assignment_4"
   ]
  },
  {
   "cell_type": "markdown",
   "id": "06a6659e",
   "metadata": {},
   "source": [
    "# 1. What are the key tasks involved in getting ready to work with machine learning modeling?"
   ]
  },
  {
   "cell_type": "markdown",
   "id": "7331aba9",
   "metadata": {},
   "source": [
    "Below are key tasks involved in getting ready to work with machine learning modeling\n",
    "\n",
    "Data Collection: Gathering relevant data for the problem.\n",
    "\n",
    "Data Preprocessing: Cleaning, handling missing values, and transforming data.\n",
    "\n",
    "Feature Engineering: Creating meaningful features for the model.\n",
    "\n",
    "Splitting Data: Separating data into training, validation, and test sets.\n",
    "\n",
    "Model Selection: Choosing an appropriate machine learning algorithm.\n",
    "\n",
    "Model Training: Training the selected model on the training data.\n",
    "\n",
    "Model Evaluation: Assessing model performance using validation data.\n",
    "\n",
    "Hyperparameter Tuning: Optimizing model parameters.\n",
    "\n",
    "Model Deployment: Deploying the model for real-world applications."
   ]
  },
  {
   "cell_type": "markdown",
   "id": "d2569055",
   "metadata": {},
   "source": [
    "# 2. What are the different forms of data used in machine learning? Give a specific example for each of them."
   ]
  },
  {
   "cell_type": "markdown",
   "id": "bb6ce9ce",
   "metadata": {},
   "source": [
    "Below are the different forms of data used in machine learning\n",
    "\n",
    "Numeric Data: Data represented as numbers (e.g., age, temperature).\n",
    "\n",
    "Categorical Data: Data with discrete categories (e.g., color, gender).\n",
    "\n",
    "Text Data: Unstructured text data (e.g., reviews, tweets).\n",
    "\n",
    "Image Data: Pixel values in images (e.g., photos, medical scans).\n",
    "\n",
    "Time Series Data: Data with a temporal component (e.g., stock prices)."
   ]
  },
  {
   "cell_type": "markdown",
   "id": "c650fea9",
   "metadata": {},
   "source": [
    "# 3. Distinguish:   1. Numeric vs. categorical attributes    2. Feature selection vs. dimensionality reduction\n"
   ]
  },
  {
   "cell_type": "markdown",
   "id": "6656db16",
   "metadata": {},
   "source": [
    "Below is distinguish - Numeric vs. categorical attributes and Feature selection vs. dimensionality reduction\n",
    "\n",
    "Numeric vs. categorical attributes:\n",
    "\n",
    "Numeric attributes are continuous and represent quantities (e.g., height).\n",
    "Categorical attributes are discrete and represent categories (e.g., color).\n",
    "\n",
    "Feature selection vs. dimensionality reduction:\n",
    "\n",
    "Feature selection chooses relevant features from the original set.\n",
    "Dimensionality reduction transforms the features into a lower-dimensional space."
   ]
  },
  {
   "cell_type": "markdown",
   "id": "f6692c71",
   "metadata": {},
   "source": [
    "# 4. Make quick notes on any two of the following:      1. The histogram       2. Use a scatter plot          3.PCA (Personal Computer Aid)"
   ]
  },
  {
   "cell_type": "markdown",
   "id": "d30b8016",
   "metadata": {},
   "source": [
    "Below are quick notes on following topic\n",
    "\n",
    "The histogram:\n",
    "\n",
    "A histogram is a graphical representation of the data distribution.\n",
    "It displays the frequency of data points within predefined intervals or \"bins.\"\n",
    "\n",
    "Use a scatter plot:\n",
    "\n",
    "A scatter plot is used to visualize the relationship between two variables.\n",
    "It consists of points on a Cartesian plane, showing data points' values for the two variables."
   ]
  },
  {
   "cell_type": "markdown",
   "id": "c2b628ee",
   "metadata": {},
   "source": [
    "# 5. Why is it necessary to investigate data? Is there a discrepancy in how qualitative and quantitative data are explored?"
   ]
  },
  {
   "cell_type": "markdown",
   "id": "dffafd9b",
   "metadata": {},
   "source": [
    "Investigating data is essential to understand its properties, identify patterns and prepare for modeling.\n",
    "\n",
    "There may be differences in exploring qualitative (categorical) and quantitative (numeric) data such as using different visualization techniques."
   ]
  },
  {
   "cell_type": "markdown",
   "id": "884dc840",
   "metadata": {},
   "source": [
    "# 6. What are the various histogram shapes? What exactly are ‘bins'?"
   ]
  },
  {
   "cell_type": "markdown",
   "id": "7453f803",
   "metadata": {},
   "source": [
    "Common histogram shapes: Normal (bell-shaped), skewed (positive or negative), bimodal (two peaks), uniform (flat).\n",
    "\n",
    "Bins are intervals that divide the data range and are used to count data points within those intervals in a histogram."
   ]
  },
  {
   "cell_type": "markdown",
   "id": "5807c0f8",
   "metadata": {},
   "source": [
    "# 7. How do we deal with data outliers?"
   ]
  },
  {
   "cell_type": "markdown",
   "id": "687d2a74",
   "metadata": {},
   "source": [
    "Outliers can be addressed by removing them, transforming the data or using robust modeling techniques that are less affected by outliers."
   ]
  },
  {
   "cell_type": "markdown",
   "id": "abcfc471",
   "metadata": {},
   "source": [
    "# 8. What are the various central inclination measures? Why does mean vary too much from median in certain data sets?"
   ]
  },
  {
   "cell_type": "markdown",
   "id": "63f820aa",
   "metadata": {},
   "source": [
    "Central inclination measures: Mean (average), median (middle value), mode (most frequent).\n",
    "\n",
    "Mean may vary from median in skewed datasets because it is sensitive to extreme values, while the median is more robust."
   ]
  },
  {
   "cell_type": "markdown",
   "id": "2c3b7e14",
   "metadata": {},
   "source": [
    "# 9. Describe how a scatter plot can be used to investigate bivariate relationships. Is it possible to find outliers using a scatter plot?"
   ]
  },
  {
   "cell_type": "markdown",
   "id": "bba3d59b",
   "metadata": {},
   "source": [
    "A scatter plot helps visualize the relationship between two variables. Patterns like linear, nonlinear, or clusters can be observed.\n",
    "\n",
    "Outliers can be identified by locating data points that are far from the general trend in a scatter plot."
   ]
  },
  {
   "cell_type": "markdown",
   "id": "a34a0072",
   "metadata": {},
   "source": [
    "# 10. Describe how cross-tabs can be used to figure out how two variables are related."
   ]
  },
  {
   "cell_type": "markdown",
   "id": "db3e0083",
   "metadata": {},
   "source": [
    "Cross-tabulation (cross-tabs) is a method to analyze the association between two categorical variables.\n",
    "It creates a table showing the frequency or proportion of occurrences of various combinations of the two variables, revealing their relationship.\n",
    "\n",
    "Cross-tabulation also known as cross-tabs is a statistical method for analyzing the relationship between two categorical variables. It involves creating a table where one variable's categories are in the rows and the other variable's categories are in the columns. \n",
    "\n",
    "By examining the counts or percentages in this table you can determine whether the variables are independent or associated. Cross-tabs are useful for drawing inferences, making decisions and understanding how different categories of variables relate to each other and they find applications in diverse fields such as market research and social sciences."
   ]
  },
  {
   "cell_type": "markdown",
   "id": "dda7d5b1",
   "metadata": {},
   "source": [
    "# Done all 10 questions "
   ]
  },
  {
   "cell_type": "markdown",
   "id": "a04469f9",
   "metadata": {},
   "source": [
    "# Regards,Yashwant"
   ]
  }
 ],
 "metadata": {
  "kernelspec": {
   "display_name": "Python 3 (ipykernel)",
   "language": "python",
   "name": "python3"
  },
  "language_info": {
   "codemirror_mode": {
    "name": "ipython",
    "version": 3
   },
   "file_extension": ".py",
   "mimetype": "text/x-python",
   "name": "python",
   "nbconvert_exporter": "python",
   "pygments_lexer": "ipython3",
   "version": "3.9.13"
  }
 },
 "nbformat": 4,
 "nbformat_minor": 5
}
